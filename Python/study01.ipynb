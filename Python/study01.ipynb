{
 "cells": [
  {
   "cell_type": "markdown",
   "metadata": {},
   "source": [
    "pyton绘制谢尔宾斯基三角形"
   ]
  },
  {
   "cell_type": "code",
   "execution_count": 1,
   "metadata": {},
   "outputs": [],
   "source": [
    "import turtle\n",
    "\n",
    "def sierpinski(degree, points):\n",
    "    colormap = ['grey', 'blue', 'yellow', 'green', 'red', 'white', 'orange']\n",
    "    drawTriangle(points, colormap[degree])\n",
    "    if degree > 0:\n",
    "        sierpinski(degree - 1,\n",
    "            {'left': points['left'],\n",
    "            'top': getMid(points['left'], points['top']),\n",
    "            'right': getMid(points['left'], points['right'])})\n",
    "        sierpinski(degree - 1,\n",
    "            {'left': getMid(points['left'],points['top']),\n",
    "            'top': points['top'],\n",
    "            'right': getMid(points['top'], points['right'])})\n",
    "        sierpinski(degree - 1,\n",
    "            {'left': getMid(points['left'], points['right']),\n",
    "            'top': getMid(points['top'], points['right']),\n",
    "            'right': points['right']})\n",
    "\n",
    "def getMid(p1, p2):\n",
    "    res = ((p1[0] + p2[0]) / 2, (p1[1] + p2[1]) / 2)\n",
    "    return res\n",
    "\n",
    "def drawTriangle(points, color):\n",
    "    t.fillcolor(color)\n",
    "    t.penup()\n",
    "    t.goto(points['top'])\n",
    "    t.pendown()\n",
    "    t.begin_fill()\n",
    "    t.goto(points['left'])\n",
    "    t.goto(points['right'])\n",
    "    t.goto(points['top'])\n",
    "    t.end_fill()"
   ]
  },
  {
   "cell_type": "code",
   "execution_count": 2,
   "metadata": {},
   "outputs": [
    {
     "output_type": "error",
     "ename": "NameError",
     "evalue": "name 'turtle' is not defined",
     "traceback": [
      "\u001b[1;31m---------------------------------------------------------------------------\u001b[0m",
      "\u001b[1;31mNameError\u001b[0m                                 Traceback (most recent call last)",
      "\u001b[1;32m<ipython-input-2-c081952d5d3c>\u001b[0m in \u001b[0;36m<module>\u001b[1;34m\u001b[0m\n\u001b[1;32m----> 1\u001b[1;33m \u001b[0mt\u001b[0m \u001b[1;33m=\u001b[0m \u001b[0mturtle\u001b[0m\u001b[1;33m.\u001b[0m\u001b[0mTurtle\u001b[0m\u001b[1;33m(\u001b[0m\u001b[1;33m)\u001b[0m\u001b[1;33m\u001b[0m\u001b[1;33m\u001b[0m\u001b[0m\n\u001b[0m\u001b[0;32m      2\u001b[0m points = {'left': (-200, -100),\n\u001b[0;32m      3\u001b[0m           \u001b[1;34m'top'\u001b[0m\u001b[1;33m:\u001b[0m \u001b[1;33m(\u001b[0m\u001b[1;36m0\u001b[0m\u001b[1;33m,\u001b[0m \u001b[1;36m200\u001b[0m\u001b[1;33m)\u001b[0m\u001b[1;33m,\u001b[0m\u001b[1;33m\u001b[0m\u001b[1;33m\u001b[0m\u001b[0m\n\u001b[0;32m      4\u001b[0m           'right': (200, -100)}\n\u001b[0;32m      5\u001b[0m \u001b[1;33m\u001b[0m\u001b[0m\n",
      "\u001b[1;31mNameError\u001b[0m: name 'turtle' is not defined"
     ]
    }
   ],
   "source": [
    "t = turtle.Turtle()\n",
    "points = {'left': (-200, -100),\n",
    "          'top': (0, 200),\n",
    "          'right': (200, -100)}\n",
    "\n",
    "sierpinski(6, points)\n",
    "turtle.down()\n"
   ]
  },
  {
   "cell_type": "code",
   "execution_count": null,
   "metadata": {},
   "outputs": [],
   "source": []
  }
 ],
 "metadata": {
  "language_info": {
   "codemirror_mode": {
    "name": "ipython",
    "version": 3
   },
   "file_extension": ".py",
   "mimetype": "text/x-python",
   "name": "python",
   "nbconvert_exporter": "python",
   "pygments_lexer": "ipython3",
   "version": "3.8.3-final"
  },
  "orig_nbformat": 2,
  "kernelspec": {
   "name": "python38364bit834899cda77541f7a2dd4c92707edb86",
   "display_name": "Python 3.8.3 64-bit"
  }
 },
 "nbformat": 4,
 "nbformat_minor": 2
}